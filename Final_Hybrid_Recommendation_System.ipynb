{
 "cells": [
  {
   "cell_type": "code",
   "execution_count": 1,
   "outputs": [],
   "source": [
    "import numpy as np\n",
    "import pandas as pd\n",
    "from sklearn.feature_extraction.text import TfidfVectorizer\n",
    "from sklearn.metrics.pairwise import linear_kernel, cosine_similarity\n",
    "from  data_preprocessing_class import TextProcessor\n",
    "from nltk.stem import PorterStemmer\n",
    "from nltk.corpus import stopwords\n",
    "from nltk.tokenize import word_tokenize\n",
    "import string\n",
    "from scipy.sparse import csr_matrix\n",
    "from sklearn.neighbors import NearestNeighbors\n",
    "import ast\n",
    "import warnings\n",
    "\n",
    "warnings.filterwarnings(\"ignore\")"
   ],
   "metadata": {
    "collapsed": false,
    "ExecuteTime": {
     "end_time": "2024-05-04T20:10:16.894625600Z",
     "start_time": "2024-05-04T20:10:15.829456200Z"
    }
   },
   "id": "f5d66d64f15a5ef7"
  },
  {
   "cell_type": "code",
   "execution_count": 2,
   "outputs": [],
   "source": [
    "reddit_api_info_nw_insights = pd.read_csv(\"subreddit_data_info_nw_insights.csv\")\n",
    "reddit_api_subreddit_add_info = pd.read_csv(\"subreddit_data_add_info.csv\")\n",
    "reddit_network_data = pd.read_csv(\"subreddit_network_data.csv\")"
   ],
   "metadata": {
    "collapsed": false,
    "ExecuteTime": {
     "end_time": "2024-05-04T20:10:17.074539800Z",
     "start_time": "2024-05-04T20:10:16.895625500Z"
    }
   },
   "id": "e428887b1b822f52"
  },
  {
   "cell_type": "code",
   "execution_count": 3,
   "outputs": [],
   "source": [
    "merged_data = pd.merge(reddit_api_info_nw_insights, reddit_api_subreddit_add_info, on=\"Subreddit\")\n",
    "merged_data = pd.merge(merged_data, reddit_network_data, on=\"Subreddit\")\n",
    "merged_data = merged_data.loc[:, ~merged_data.columns.str.contains('^Unnamed')]"
   ],
   "metadata": {
    "collapsed": false,
    "ExecuteTime": {
     "end_time": "2024-05-04T20:10:17.111771700Z",
     "start_time": "2024-05-04T20:10:17.077018200Z"
    }
   },
   "id": "fb201da7106d1d4e"
  },
  {
   "cell_type": "code",
   "execution_count": 4,
   "outputs": [],
   "source": [
    "subreddit_desc_df = merged_data[['Subreddit', 'Subreddit Description']].copy()\n",
    "\n",
    "processor = TextProcessor()\n",
    "subreddit_desc_df = processor.text_preprocessed(subreddit_desc_df, 'Subreddit Description')\n",
    "\n",
    "tfidf = TfidfVectorizer(stop_words='english', binary=True)\n",
    "tfidf_matrix = tfidf.fit_transform(subreddit_desc_df['text_stemmed_no_stopped'])\n",
    "\n",
    "cosine_sim = linear_kernel(tfidf_matrix, tfidf_matrix)"
   ],
   "metadata": {
    "collapsed": false,
    "ExecuteTime": {
     "end_time": "2024-05-04T20:10:17.268846200Z",
     "start_time": "2024-05-04T20:10:17.104075400Z"
    }
   },
   "id": "2f87b3dd9de44b9b"
  },
  {
   "cell_type": "code",
   "execution_count": 5,
   "outputs": [],
   "source": [
    "# Function to get recommendations based on similarity\n",
    "def recommend_subreddits_by_topic(topic, tfidf_vectorizer, tfidf_matrix, df, top_n=5):\n",
    "    topic_vector = tfidf_vectorizer.transform([topic])\n",
    "\n",
    "    cosine_similarities = cosine_similarity(topic_vector, tfidf_matrix).flatten()\n",
    "\n",
    "    top_indices = cosine_similarities.argsort()[-top_n:][::-1]\n",
    "\n",
    "    recommended_subreddits = df.iloc[top_indices].copy()\n",
    "\n",
    "    return recommended_subreddits['Subreddit']"
   ],
   "metadata": {
    "collapsed": false,
    "ExecuteTime": {
     "end_time": "2024-05-04T20:10:17.278665Z",
     "start_time": "2024-05-04T20:10:17.268846200Z"
    }
   },
   "id": "8957b34ed50981c6"
  },
  {
   "cell_type": "code",
   "execution_count": 6,
   "outputs": [],
   "source": [
    "def preprocess_topic(text):\n",
    "    tokens = word_tokenize(text.lower())\n",
    "\n",
    "    table = str.maketrans('', '', string.punctuation)\n",
    "    stripped = [w.translate(table) for w in tokens]\n",
    "\n",
    "    words = [word for word in stripped if word.isalpha()]\n",
    "\n",
    "    stop_words = set(stopwords.words('english'))\n",
    "    words = [w for w in words if not w in stop_words]\n",
    "\n",
    "    porter = PorterStemmer()\n",
    "    stemmed = [porter.stem(word) for word in words]\n",
    "    return ' '.join(stemmed)\n",
    "\n",
    "topic = \"Foxes are lovable.\"\n",
    "preprocessed_topic = preprocess_topic(topic)\n",
    "\n",
    "topic_vector = tfidf.transform([preprocessed_topic]).toarray()\n",
    "\n",
    "try:\n",
    "    preprocessed_topic = preprocess_topic(topic)\n",
    "    recommendations = recommend_subreddits_by_topic(preprocessed_topic, tfidf, tfidf_matrix, subreddit_desc_df, 5)\n",
    "except ValueError as e:\n",
    "    print(e)"
   ],
   "metadata": {
    "collapsed": false,
    "ExecuteTime": {
     "end_time": "2024-05-04T20:10:17.288816Z",
     "start_time": "2024-05-04T20:10:17.272886800Z"
    }
   },
   "id": "f05130300980c71e"
  },
  {
   "cell_type": "code",
   "execution_count": 7,
   "outputs": [
    {
     "name": "stdout",
     "output_type": "stream",
     "text": [
      "Selected random users: ['MattyIce6969' 'Exclamation_Marc' 'KiwiMurky736' 'LudovicoSpecs'\n",
      " 'Daft-Vader']\n"
     ]
    }
   ],
   "source": [
    "posts_df = merged_data[[\"Subreddit\", \"Top 10 Posts\"]]\n",
    "posts_df[\"Top 10 Posts\"] = posts_df[\"Top 10 Posts\"].apply(ast.literal_eval)\n",
    "expanded_posts_df = posts_df.explode(\"Top 10 Posts\").reset_index(drop=True)\n",
    "\n",
    "post_authors_df = merged_data[[\"Subreddit\", \"PostAuthors\"]]\n",
    "post_authors_df[\"PostAuthors\"] = post_authors_df[\"PostAuthors\"].apply(ast.literal_eval)\n",
    "expanded_post_authors_df = post_authors_df.explode(\"PostAuthors\").reset_index(drop=True)\n",
    "\n",
    "post_interactions_df = pd.merge(expanded_posts_df, expanded_post_authors_df, left_index=True, right_index=True)\n",
    "post_interactions_df.drop(columns=[\"Subreddit_y\"], inplace=True)\n",
    "post_interactions_df.rename(columns={\"Subreddit_x\": \"Subreddit\"}, inplace=True)\n",
    "\n",
    "interaction_matrix = post_interactions_df.groupby(['PostAuthors', 'Subreddit']).size().unstack(fill_value=0)\n",
    "\n",
    "interaction_sample = csr_matrix(interaction_matrix)\n",
    "\n",
    "csr_sample = csr_matrix(interaction_matrix)\n",
    "\n",
    "knn = NearestNeighbors(metric='cosine', algorithm='brute', n_neighbors=20, n_jobs=-1)\n",
    "knn.fit(csr_sample)\n",
    "\n",
    "random_users = np.random.choice(post_interactions_df['PostAuthors'].unique(), size=5, replace=False)\n",
    "print(\"Selected random users:\", random_users)"
   ],
   "metadata": {
    "collapsed": false,
    "ExecuteTime": {
     "end_time": "2024-05-04T20:10:17.324195700Z",
     "start_time": "2024-05-04T20:10:17.287624900Z"
    }
   },
   "id": "a5fd3cd7dd4d616f"
  },
  {
   "cell_type": "code",
   "execution_count": 8,
   "outputs": [],
   "source": [
    "def hybrid_recommendation(user_id, tfidf_matrix, interaction_matrix, subreddit_desc_df, knn_model, tfidf_vectorizer, top_n=5):\n",
    "    user_interaction = csr_sample[interaction_matrix.index.get_loc(user_id)]\n",
    "    distances, indices = knn_model.kneighbors(user_interaction, n_neighbors=20)\n",
    "    indices = indices.flatten()[1:]\n",
    "    distances = distances.flatten()[1:]\n",
    "\n",
    "    collab_subreddits = set()\n",
    "    for idx in indices:\n",
    "        neighbor_subreddits = interaction_matrix.columns[interaction_matrix.iloc[idx] > 0]\n",
    "        collab_subreddits.update(neighbor_subreddits)\n",
    "    collab_subreddits -= set(interaction_matrix.columns[interaction_matrix.iloc[interaction_matrix.index.get_loc(user_id)] > 0])\n",
    "\n",
    "    all_subreddit_descriptions = \" \".join(subreddit_desc_df['Subreddit Description'].tolist())\n",
    "    content_recs = recommend_subreddits_by_topic(all_subreddit_descriptions, tfidf_vectorizer, tfidf_matrix, subreddit_desc_df, top_n=top_n)\n",
    "\n",
    "    combined_recommendations = list(collab_subreddits.union(set(content_recs)))\n",
    "    return combined_recommendations[:top_n]"
   ],
   "metadata": {
    "collapsed": false,
    "ExecuteTime": {
     "end_time": "2024-05-04T20:10:17.333682800Z",
     "start_time": "2024-05-04T20:10:17.325350100Z"
    }
   },
   "id": "3d88040475eed54"
  },
  {
   "cell_type": "code",
   "execution_count": 9,
   "outputs": [
    {
     "name": "stdout",
     "output_type": "stream",
     "text": [
      "Hybrid recommendations for user MattyIce6969: ['WritingPrompts', 'cuteanimals', 'reddeadredemption', 'AnimalCollective', 'RoundAnimals', 'hitmanimals', 'mildlyinteresting', 'todayilearned', 'animalid', 'teenagers']\n",
      "Hybrid recommendations for user Exclamation_Marc: ['WritingPrompts', 'cuteanimals', 'reddeadredemption', 'RoundAnimals', 'mildlyinteresting', 'todayilearned', 'animalid', 'teenagers', 'glassanimals', 'pinkfloyd']\n",
      "Hybrid recommendations for user KiwiMurky736: ['WritingPrompts', 'cuteanimals', 'reddeadredemption', 'RoundAnimals', 'AnimalsWithoutNecks', 'mildlyinteresting', 'animalid', 'explainlikeimfive', 'teenagers', 'glassanimals']\n",
      "Hybrid recommendations for user LudovicoSpecs: ['WritingPrompts', 'cuteanimals', 'reddeadredemption', 'RoundAnimals', 'mildlyinteresting', 'RimWorld', 'todayilearned', 'ImaginaryAnimals', 'animalid', 'teenagers']\n",
      "Hybrid recommendations for user Daft-Vader: ['AnimalsFailing', 'WritingPrompts', 'cuteanimals', 'reddeadredemption', 'RoundAnimals', 'AnimalsWithoutNecks', 'mildlyinteresting', 'animalid', 'teenagers', 'glassanimals']\n"
     ]
    }
   ],
   "source": [
    "for user_id in random_users:\n",
    "    hybrid_recs = hybrid_recommendation(user_id, tfidf_matrix, interaction_matrix, subreddit_desc_df, knn, tfidf, top_n=10)\n",
    "    print(f\"Hybrid recommendations for user {user_id}: {hybrid_recs}\")"
   ],
   "metadata": {
    "collapsed": false,
    "ExecuteTime": {
     "end_time": "2024-05-04T20:10:17.445449600Z",
     "start_time": "2024-05-04T20:10:17.332673800Z"
    }
   },
   "id": "22e707e2ee5cab4f"
  }
 ],
 "metadata": {
  "kernelspec": {
   "display_name": "Python 3",
   "language": "python",
   "name": "python3"
  },
  "language_info": {
   "codemirror_mode": {
    "name": "ipython",
    "version": 2
   },
   "file_extension": ".py",
   "mimetype": "text/x-python",
   "name": "python",
   "nbconvert_exporter": "python",
   "pygments_lexer": "ipython2",
   "version": "2.7.6"
  }
 },
 "nbformat": 4,
 "nbformat_minor": 5
}
